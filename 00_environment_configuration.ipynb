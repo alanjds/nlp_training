{
 "cells": [
  {
   "cell_type": "markdown",
   "metadata": {},
   "source": [
    "# Environment configuration"
   ]
  },
  {
   "cell_type": "markdown",
   "metadata": {},
   "source": [
    "```\n",
    "\n",
    "# Update your outdated packages\n",
    "sudo apt-get -y update & sudo apt-get -y dist-upgrade\n",
    "\n",
    "# check if you have python installed\n",
    "sudo apt-get install -y python-pip python-dev ipython python-zmq\n",
    "\n",
    "# upgrade pip and stop complaining about insecure connection\n",
    "sudo apt-get install libffi-dev libssl-dev\n",
    "sudo pip install pyopenssl ndg-httpsclient pyasn1\n",
    "sudo pip install -U setuptools pip\n",
    "\n",
    "# update ipython and jupyter notebook\n",
    "sudo pip install -U ipython notebook\n",
    "\n",
    "# install python science basics\n",
    "sudo apt-get install python-numpy python-scipy\n",
    "sudo apt-get install gfortran libopenblas-dev liblapack-dev\n",
    "\n",
    "# pyenchant needs some c libraries\n",
    "sudo apt-get isntall python-enchant\n",
    "\n",
    "# install updated numpy first (alone)\n",
    "sudo pip install -U numpy\n",
    "\n",
    "# then install updated scipy alone again\n",
    "sudo pip install -U scipy\n",
    "\n",
    "# clone the training repository\n",
    "git clone https://github.com/pedrobalage/nlp_training.git\n",
    "cd nlp_training\n",
    "\n",
    "# install necessary packages\n",
    "sudo pip install -U -r pip-req.txt\n",
    "\n",
    "# nltk need some corpora and models to be downloaded\n",
    ">> import nltk; nltk.download('all')\n",
    "\n",
    "# polyglot need some corpora and models to be downloaded\n",
    "sudo mkdir /usr/share/polyglot_data\n",
    "sudo polyglot download --dir /usr/share/polyglot_data LANG:pt\n",
    "sudo polyglot download --dir /usr/share/polyglot_data LANG:en\n",
    "\n",
    "# nlpnet need models to be downloaded\n",
    "sudo mkdir /usr/share/nlpnet_data\n",
    "wget -qO- http://nilc.icmc.usp.br/nlpnet/data/pos-pt.tgz | sudo tar xvz -C /usr/share/nlpnet_data/\n",
    "wget -qO- http://nilc.icmc.usp.br/nlpnet/data/srl-pt.tgz | sudo tar xvz -C /usr/share/nlpnet_data/\n",
    "sudo mv /usr/share/nlpnet_data/pos-pt/* /usr/share/nlpnet_data/ \n",
    "sudo mv /usr/share/nlpnet_data/srl-pt/* /usr/share/nlpnet_data/\n",
    "\n",
    "# install some language packages\n",
    "sudo aptitude install aspell-pt-br\n",
    "\n",
    "# Use python notebook to view and interact with ipynb files\n",
    "sudo pip install notebook\n",
    "jupyter notebook\n",
    "\n",
    "# Open jupyter notebook in your browser\n",
    "http://localhost:8888/\n",
    "```"
   ]
  },
  {
   "cell_type": "code",
   "execution_count": null,
   "metadata": {
    "collapsed": true
   },
   "outputs": [],
   "source": []
  }
 ],
 "metadata": {
  "kernelspec": {
   "display_name": "Python 2",
   "language": "python",
   "name": "python2"
  },
  "language_info": {
   "codemirror_mode": {
    "name": "ipython",
    "version": 2
   },
   "file_extension": ".py",
   "mimetype": "text/x-python",
   "name": "python",
   "nbconvert_exporter": "python",
   "pygments_lexer": "ipython2",
   "version": "2.7.6"
  }
 },
 "nbformat": 4,
 "nbformat_minor": 0
}
