{
 "cells": [
  {
   "cell_type": "markdown",
   "metadata": {},
   "source": [
    "# Activity 1: Term extraction\n",
    "\n",
    "Read the file corpus.txt and extract the term candidates for this corpus. For terms, we could obtain words that are most representativve in the domain of the text.\n",
    "\n",
    "A very basic heuristic for term extraction consists in:\n",
    "\n",
    "* Read and tokenize the text\n",
    "* Extract only nouns and compute their frequency in the text\n",
    "* Extract the best candidates"
   ]
  },
  {
   "cell_type": "code",
   "execution_count": 1,
   "metadata": {
    "collapsed": true
   },
   "outputs": [],
   "source": [
    "from __future__ import unicode_literals"
   ]
  },
  {
   "cell_type": "code",
   "execution_count": 2,
   "metadata": {
    "collapsed": true
   },
   "outputs": [],
   "source": [
    "import codecs"
   ]
  },
  {
   "cell_type": "code",
   "execution_count": 3,
   "metadata": {
    "collapsed": true
   },
   "outputs": [],
   "source": [
    "with codecs.open('corpus.txt','r',encoding='utf8') as fp:\n",
    "    corpus = fp.read()"
   ]
  },
  {
   "cell_type": "code",
   "execution_count": 4,
   "metadata": {
    "collapsed": false
   },
   "outputs": [
    {
     "data": {
      "text/plain": [
       "55177067"
      ]
     },
     "execution_count": 4,
     "metadata": {},
     "output_type": "execute_result"
    }
   ],
   "source": [
    "len(corpus)"
   ]
  },
  {
   "cell_type": "code",
   "execution_count": 5,
   "metadata": {
    "collapsed": true
   },
   "outputs": [],
   "source": [
    "corpus = corpus[:1000000]"
   ]
  },
  {
   "cell_type": "code",
   "execution_count": 6,
   "metadata": {
    "collapsed": false
   },
   "outputs": [
    {
     "data": {
      "text/plain": [
       "1000000"
      ]
     },
     "execution_count": 6,
     "metadata": {},
     "output_type": "execute_result"
    }
   ],
   "source": [
    "len(corpus)"
   ]
  },
  {
   "cell_type": "code",
   "execution_count": 7,
   "metadata": {
    "collapsed": false
   },
   "outputs": [],
   "source": [
    "import nlpnet\n",
    "nlpnet.set_data_dir(b'/usr/share/nlpnet_data/')\n",
    "tagger = nlpnet.POSTagger()\n",
    "sentences = tagger.tag(corpus)\n",
    "# tagset: http://nilc.icmc.usp.br/macmorpho/macmorpho-manual.pdf"
   ]
  },
  {
   "cell_type": "code",
   "execution_count": 8,
   "metadata": {
    "collapsed": false
   },
   "outputs": [
    {
     "data": {
      "text/plain": [
       "6649"
      ]
     },
     "execution_count": 8,
     "metadata": {},
     "output_type": "execute_result"
    }
   ],
   "source": [
    "len(sentences)"
   ]
  },
  {
   "cell_type": "code",
   "execution_count": 9,
   "metadata": {
    "collapsed": false
   },
   "outputs": [
    {
     "data": {
      "text/plain": [
       "[(u'Com', u'PREP'),\n",
       " (u'os', u'ART'),\n",
       " (u'conhecimentos', u'N'),\n",
       " (u'avan\\xe7ados', u'PCP'),\n",
       " (u'de', u'PREP'),\n",
       " (u'hoje', u'ADV'),\n",
       " (u'e', u'KC'),\n",
       " (u'um', u'ART'),\n",
       " (u'entusiasmo', u'N'),\n",
       " (u'pela', u'PREP+ART'),\n",
       " (u'dire\\xe7\\xe3o', u'N'),\n",
       " (u',', u'PU'),\n",
       " (u'os', u'ART'),\n",
       " (u'engenheiros', u'N'),\n",
       " (u'da', u'PREP+ART'),\n",
       " (u'Pirelli', u'NPROP'),\n",
       " (u'puderam', u'V'),\n",
       " (u'dar', u'V'),\n",
       " (u'grandes', u'ADJ'),\n",
       " (u'passos', u'N'),\n",
       " (u'.', u'PU')]"
      ]
     },
     "execution_count": 9,
     "metadata": {},
     "output_type": "execute_result"
    }
   ],
   "source": [
    "sentences[2]"
   ]
  },
  {
   "cell_type": "code",
   "execution_count": 10,
   "metadata": {
    "collapsed": false
   },
   "outputs": [],
   "source": [
    "import enchant\n",
    "d = enchant.Dict(\"pt_BR\")"
   ]
  },
  {
   "cell_type": "code",
   "execution_count": 11,
   "metadata": {
    "collapsed": false
   },
   "outputs": [],
   "source": [
    "freq_list = dict()\n",
    "for sentence in sentences:\n",
    "    chunk = ''\n",
    "    for word, tag in sentence:\n",
    "        word = word.lower()\n",
    "        if tag == 'N':\n",
    "            if not chunk:\n",
    "                chunk = word\n",
    "            else:\n",
    "                chunk += ' ' + word\n",
    "        else:\n",
    "            if chunk:\n",
    "                if d.check(chunk):\n",
    "                    freq_list[chunk] = freq_list.get(chunk, 0) + 1\n",
    "    if chunk:\n",
    "        if d.check(chunk):\n",
    "            freq_list[chunk] = freq_list.get(chunk, 0) + 1"
   ]
  },
  {
   "cell_type": "code",
   "execution_count": 12,
   "metadata": {
    "collapsed": false
   },
   "outputs": [
    {
     "name": "stdout",
     "output_type": "stream",
     "text": [
      "Best Terms:informações,imagens,magnésio,imagem,unhas,capa,produto,alto-falante,caixa,par,qualidade,dissertação,potencial,cápsulas,esmaltes,componentes,design,cores,capas,tecnologia\n"
     ]
    }
   ],
   "source": [
    "from operator import itemgetter\n",
    "terms = sorted(freq_list.items(), key=itemgetter(1), reverse=True)\n",
    "print 'Best Terms:' + ','.join([word for word,tag in terms][:20])"
   ]
  },
  {
   "cell_type": "code",
   "execution_count": null,
   "metadata": {
    "collapsed": true
   },
   "outputs": [],
   "source": []
  }
 ],
 "metadata": {
  "kernelspec": {
   "display_name": "Python 2",
   "language": "python",
   "name": "python2"
  },
  "language_info": {
   "codemirror_mode": {
    "name": "ipython",
    "version": 2
   },
   "file_extension": ".py",
   "mimetype": "text/x-python",
   "name": "python",
   "nbconvert_exporter": "python",
   "pygments_lexer": "ipython2",
   "version": "2.7.6"
  }
 },
 "nbformat": 4,
 "nbformat_minor": 0
}
