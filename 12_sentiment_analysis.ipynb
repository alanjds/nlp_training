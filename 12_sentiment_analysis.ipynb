{
 "cells": [
  {
   "cell_type": "markdown",
   "metadata": {},
   "source": [
    "# Sentiment Analysis\n",
    "\n",
    "Sentiment analysis (also known as opinion mining) refers to the use of natural language processing, text analysis and computational linguistics to identify and extract subjective information in source materials. Sentiment analysis is widely applied to reviews and social media for a variety of applications, ranging from marketing to customer service.\n",
    "\n",
    "Lexical resources for Portuguese\n",
    "\n",
    "LIWC\n",
    "\n",
    "http://www.nilc.icmc.usp.br/portlex/index.php/pt/projetos/liwc\n",
    "\n",
    "OpLexicon\n",
    "\n",
    "http://ontolp.inf.pucrs.br/Recursos/downloads-OpLexicon.php\n",
    "\n",
    "SentiLex\n",
    "\n",
    "http://dmir.inesc-id.pt/project/SentiLex-PT_02 \n",
    "\n",
    "Corpora available\n",
    "\n",
    "http://www.linguateca.pt/Repositorio/ReLi/\n",
    "\n",
    "\n",
    "There is two ways for doing sentenece/text level sentiment analysis:\n",
    "\n",
    "* Based on lexical resources\n",
    "* Based on text categorization machine learning"
   ]
  },
  {
   "cell_type": "code",
   "execution_count": 1,
   "metadata": {
    "collapsed": true
   },
   "outputs": [],
   "source": [
    "from __future__ import unicode_literals\n",
    "import codecs"
   ]
  },
  {
   "cell_type": "code",
   "execution_count": 2,
   "metadata": {
    "collapsed": false
   },
   "outputs": [],
   "source": [
    "with codecs.open('LIWC2007_Portugues_win.dic', encoding='latin1') as fp:\n",
    "        liwc = fp.readlines()"
   ]
  },
  {
   "cell_type": "code",
   "execution_count": 5,
   "metadata": {
    "collapsed": false
   },
   "outputs": [],
   "source": [
    "pos = set()\n",
    "neg = set()\n",
    "for line in liwc:\n",
    "    line = line.strip()\n",
    "    if line:\n",
    "        line = line.split()\n",
    "        word = line[0]\n",
    "        cat = line[1:]\n",
    "        if '126' in cat:\n",
    "            pos.add(word)\n",
    "        elif '127' in cat:\n",
    "            neg.add(word)      \n",
    "        "
   ]
  },
  {
   "cell_type": "code",
   "execution_count": 6,
   "metadata": {
    "collapsed": false
   },
   "outputs": [
    {
     "data": {
      "text/plain": [
       "14613"
      ]
     },
     "execution_count": 6,
     "metadata": {},
     "output_type": "execute_result"
    }
   ],
   "source": [
    "len(neg)"
   ]
  },
  {
   "cell_type": "code",
   "execution_count": 7,
   "metadata": {
    "collapsed": false
   },
   "outputs": [
    {
     "data": {
      "text/plain": [
       "12878"
      ]
     },
     "execution_count": 7,
     "metadata": {},
     "output_type": "execute_result"
    }
   ],
   "source": [
    "len(pos)"
   ]
  },
  {
   "cell_type": "code",
   "execution_count": 8,
   "metadata": {
    "collapsed": false
   },
   "outputs": [],
   "source": [
    "text = 'não gostei muito do meu iphone'"
   ]
  },
  {
   "cell_type": "code",
   "execution_count": 9,
   "metadata": {
    "collapsed": false
   },
   "outputs": [
    {
     "data": {
      "text/plain": [
       "[u'n\\xe3o', u'gostei', u'muito', u'do', u'meu', u'iphone']"
      ]
     },
     "execution_count": 9,
     "metadata": {},
     "output_type": "execute_result"
    }
   ],
   "source": [
    "text.split()"
   ]
  },
  {
   "cell_type": "code",
   "execution_count": 10,
   "metadata": {
    "collapsed": false
   },
   "outputs": [],
   "source": [
    "def check_pol(text):\n",
    "    pol = 0\n",
    "    text = text.split()\n",
    "    negation = False\n",
    "    if u'não' in text:\n",
    "        negation = True\n",
    "    for token in text:\n",
    "        if token in pos:\n",
    "            pol += 1\n",
    "            print 'pos: ' + token\n",
    "        if token in neg:\n",
    "            print 'neg: ' + token\n",
    "            pol += -1\n",
    "    if negation:\n",
    "        pol = -1 * pol\n",
    "    return pol"
   ]
  },
  {
   "cell_type": "code",
   "execution_count": 13,
   "metadata": {
    "collapsed": false
   },
   "outputs": [
    {
     "name": "stdout",
     "output_type": "stream",
     "text": [
      "pos: gostei\n",
      "pos: muito\n",
      "pos: lindo\n"
     ]
    },
    {
     "data": {
      "text/plain": [
       "3"
      ]
     },
     "execution_count": 13,
     "metadata": {},
     "output_type": "execute_result"
    }
   ],
   "source": [
    "text = 'Eu gostei muito deste lindo aparelho'\n",
    "check_pol(text)"
   ]
  },
  {
   "cell_type": "code",
   "execution_count": null,
   "metadata": {
    "collapsed": true
   },
   "outputs": [],
   "source": []
  }
 ],
 "metadata": {
  "kernelspec": {
   "display_name": "Python 2",
   "language": "python",
   "name": "python2"
  },
  "language_info": {
   "codemirror_mode": {
    "name": "ipython",
    "version": 2
   },
   "file_extension": ".py",
   "mimetype": "text/x-python",
   "name": "python",
   "nbconvert_exporter": "python",
   "pygments_lexer": "ipython2",
   "version": "2.7.6"
  }
 },
 "nbformat": 4,
 "nbformat_minor": 0
}
