{
 "cells": [
  {
   "cell_type": "markdown",
   "metadata": {},
   "source": [
    "# Wordnets\n",
    "\n",
    "WordNets are a large lexical databases. Nouns, verbs, adjectives and adverbs are grouped into sets of cognitive synonyms (synsets), each expressing a distinct concept. Synsets are interlinked by means of conceptual-semantic and lexical relations.\n",
    "\n",
    "NLTK has a interface for the **[Open Multilingual WordNet](http://compling.hss.ntu.edu.sg/omw/)**\n",
    "\n",
    "Useful Links:\n",
    "\n",
    "http://wordnet.princeton.edu/\n",
    "\n",
    "http://ontopt.dei.uc.pt/index.php?sec=consultar\n",
    "\n",
    "http://www.nilc.icmc.usp.br/wordnetbr/busca_tipo_semantico.php\n",
    "\n",
    "http://www.nilc.icmc.usp.br/tep2/busca.php"
   ]
  },
  {
   "cell_type": "code",
   "execution_count": 1,
   "metadata": {
    "collapsed": false
   },
   "outputs": [],
   "source": [
    "from __future__ import unicode_literals"
   ]
  },
  {
   "cell_type": "code",
   "execution_count": 2,
   "metadata": {
    "collapsed": true
   },
   "outputs": [],
   "source": [
    "from nltk.corpus import wordnet as wn"
   ]
  },
  {
   "cell_type": "code",
   "execution_count": 3,
   "metadata": {
    "collapsed": false
   },
   "outputs": [
    {
     "data": {
      "text/plain": [
       "[u'eng',\n",
       " u'als',\n",
       " u'arb',\n",
       " u'bul',\n",
       " u'cat',\n",
       " u'cmn',\n",
       " u'dan',\n",
       " u'ell',\n",
       " u'eus',\n",
       " u'fas',\n",
       " u'fin',\n",
       " u'fra',\n",
       " u'glg',\n",
       " u'heb',\n",
       " u'hrv',\n",
       " u'ind',\n",
       " u'ita',\n",
       " u'jpn',\n",
       " u'nno',\n",
       " u'nob',\n",
       " u'pol',\n",
       " u'por',\n",
       " u'qcn',\n",
       " u'slv',\n",
       " u'spa',\n",
       " u'swe',\n",
       " u'tha',\n",
       " u'zsm']"
      ]
     },
     "execution_count": 3,
     "metadata": {},
     "output_type": "execute_result"
    }
   ],
   "source": [
    "wn.langs()"
   ]
  },
  {
   "cell_type": "code",
   "execution_count": 4,
   "metadata": {
    "collapsed": false
   },
   "outputs": [
    {
     "data": {
      "text/plain": [
       "[Synset('football.n.01'),\n",
       " Synset('soccer.n.01'),\n",
       " Synset('football.n.02'),\n",
       " Synset('soccer_ball.n.01')]"
      ]
     },
     "execution_count": 4,
     "metadata": {},
     "output_type": "execute_result"
    }
   ],
   "source": [
    "wn.synsets('futebol', lang='por')\n",
    "# collocations"
   ]
  },
  {
   "cell_type": "code",
   "execution_count": 5,
   "metadata": {
    "collapsed": false
   },
   "outputs": [],
   "source": [
    "synset = wn.synset('football.n.02')"
   ]
  },
  {
   "cell_type": "code",
   "execution_count": 6,
   "metadata": {
    "collapsed": false
   },
   "outputs": [
    {
     "data": {
      "text/plain": [
       "[u'football']"
      ]
     },
     "execution_count": 6,
     "metadata": {},
     "output_type": "execute_result"
    }
   ],
   "source": [
    "synset.lemma_names()"
   ]
  },
  {
   "cell_type": "code",
   "execution_count": 7,
   "metadata": {
    "collapsed": false
   },
   "outputs": [
    {
     "data": {
      "text/plain": [
       "[u'bola', u'bola_de_futebol', u'futebol']"
      ]
     },
     "execution_count": 7,
     "metadata": {},
     "output_type": "execute_result"
    }
   ],
   "source": [
    "synset.lemma_names('por')"
   ]
  },
  {
   "cell_type": "code",
   "execution_count": 8,
   "metadata": {
    "collapsed": false
   },
   "outputs": [
    {
     "data": {
      "text/plain": [
       "u'the inflated oblong ball used in playing American football'"
      ]
     },
     "execution_count": 8,
     "metadata": {},
     "output_type": "execute_result"
    }
   ],
   "source": [
    "synset.definition()"
   ]
  },
  {
   "cell_type": "code",
   "execution_count": 9,
   "metadata": {
    "collapsed": false
   },
   "outputs": [
    {
     "data": {
      "text/plain": [
       "[Synset('ball.n.01')]"
      ]
     },
     "execution_count": 9,
     "metadata": {},
     "output_type": "execute_result"
    }
   ],
   "source": [
    "synset.hypernyms()"
   ]
  },
  {
   "cell_type": "code",
   "execution_count": 10,
   "metadata": {
    "collapsed": false
   },
   "outputs": [],
   "source": [
    "# it is not always that the synsets have a correlation among languages\n",
    "syn2 = synset.hypernyms()[0]"
   ]
  },
  {
   "cell_type": "code",
   "execution_count": 11,
   "metadata": {
    "collapsed": false
   },
   "outputs": [
    {
     "data": {
      "text/plain": [
       "[]"
      ]
     },
     "execution_count": 11,
     "metadata": {},
     "output_type": "execute_result"
    }
   ],
   "source": [
    "synset.hyponyms()"
   ]
  },
  {
   "cell_type": "markdown",
   "metadata": {},
   "source": [
    "## Similarity"
   ]
  },
  {
   "cell_type": "code",
   "execution_count": 12,
   "metadata": {
    "collapsed": false
   },
   "outputs": [
    {
     "data": {
      "text/plain": [
       "0.2"
      ]
     },
     "execution_count": 12,
     "metadata": {},
     "output_type": "execute_result"
    }
   ],
   "source": [
    "# synset1.path_similarity(synset2): Return a score denoting how similar two word senses are, \n",
    "# based on the shortest path that connects the senses in the is-a (hypernym/hypnoym) taxonomy. \n",
    "# The score is in the range 0 to 1. \n",
    "dog = wn.synset('dog.n.01')\n",
    "cat = wn.synset('cat.n.01')\n",
    "wn.path_similarity(dog, cat)"
   ]
  },
  {
   "cell_type": "markdown",
   "metadata": {},
   "source": [
    "More information on http://www.nltk.org/howto/wordnet.html"
   ]
  },
  {
   "cell_type": "code",
   "execution_count": 13,
   "metadata": {
    "collapsed": false
   },
   "outputs": [
    {
     "data": {
      "text/plain": [
       "0.5"
      ]
     },
     "execution_count": 13,
     "metadata": {},
     "output_type": "execute_result"
    }
   ],
   "source": [
    "# synset1.path_similarity(synset2): Return a score denoting how similar two word senses are, \n",
    "# based on the shortest path that connects the senses in the is-a (hypernym/hypnoym) taxonomy. \n",
    "# The score is in the range 0 to 1. \n",
    "dog = wn.synset('refrigerator.n.01')\n",
    "cat = wn.synset('white_goods.n.01')\n",
    "wn.path_similarity(dog, cat)"
   ]
  },
  {
   "cell_type": "code",
   "execution_count": null,
   "metadata": {
    "collapsed": true
   },
   "outputs": [],
   "source": []
  }
 ],
 "metadata": {
  "kernelspec": {
   "display_name": "Python 2",
   "language": "python",
   "name": "python2"
  },
  "language_info": {
   "codemirror_mode": {
    "name": "ipython",
    "version": 2
   },
   "file_extension": ".py",
   "mimetype": "text/x-python",
   "name": "python",
   "nbconvert_exporter": "python",
   "pygments_lexer": "ipython2",
   "version": "2.7.6"
  }
 },
 "nbformat": 4,
 "nbformat_minor": 0
}
