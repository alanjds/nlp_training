{
 "cells": [
  {
   "cell_type": "markdown",
   "metadata": {},
   "source": [
    "# Text similarity\n",
    "\n",
    "How to compute the similarity between two strings?"
   ]
  },
  {
   "cell_type": "code",
   "execution_count": 1,
   "metadata": {
    "collapsed": true
   },
   "outputs": [],
   "source": [
    "from __future__ import unicode_literals\n",
    "from __future__ import division"
   ]
  },
  {
   "cell_type": "code",
   "execution_count": 2,
   "metadata": {
    "collapsed": true
   },
   "outputs": [],
   "source": [
    "a = 'Refrigerador Brastemp CFR45 20L frostfree'\n",
    "b = 'Geladeira Brastemp CFR45 20L com desgelo automático'"
   ]
  },
  {
   "cell_type": "code",
   "execution_count": 3,
   "metadata": {
    "collapsed": false
   },
   "outputs": [
    {
     "data": {
      "text/plain": [
       "{u'20L', u'Brastemp', u'CFR45'}"
      ]
     },
     "execution_count": 3,
     "metadata": {},
     "output_type": "execute_result"
    }
   ],
   "source": [
    "# Value for similar tokens:\n",
    "tokensA = a.split()\n",
    "tokensB = b.split()\n",
    "set(tokensA).intersection(tokensB)"
   ]
  },
  {
   "cell_type": "code",
   "execution_count": 4,
   "metadata": {
    "collapsed": false
   },
   "outputs": [
    {
     "name": "stdout",
     "output_type": "stream",
     "text": [
      "3 similars from 9 tokens: 33.33% of similarity\n"
     ]
    }
   ],
   "source": [
    "similar = len(set(tokensA).intersection(tokensB))\n",
    "total = len(set(tokensA).union(tokensB))\n",
    "print '{} similars from {} tokens: {:0.2f}% of similarity'.format(similar, total, similar/total*100)"
   ]
  },
  {
   "cell_type": "code",
   "execution_count": 5,
   "metadata": {
    "collapsed": false
   },
   "outputs": [],
   "source": [
    "# several other metrics. See jellyfish, fuzzywuzzy, metaphone, etc\n",
    "import jellyfish\n",
    "import fuzzywuzzy\n",
    "import metaphone"
   ]
  },
  {
   "cell_type": "code",
   "execution_count": 6,
   "metadata": {
    "collapsed": false
   },
   "outputs": [
    {
     "name": "stdout",
     "output_type": "stream",
     "text": [
      "('KS', '')\n",
      "('KS', '')\n"
     ]
    }
   ],
   "source": [
    "print metaphone.doublemetaphone('caza')\n",
    "print metaphone.doublemetaphone('casa')"
   ]
  },
  {
   "cell_type": "code",
   "execution_count": 7,
   "metadata": {
    "collapsed": false
   },
   "outputs": [
    {
     "data": {
      "text/plain": [
       "0.6568129284234019"
      ]
     },
     "execution_count": 7,
     "metadata": {},
     "output_type": "execute_result"
    }
   ],
   "source": [
    "# The Jaro–Winkler distance metric is designed and best suited for short strings such as person names. \n",
    "jellyfish.jaro_distance(a,b)"
   ]
  },
  {
   "cell_type": "markdown",
   "metadata": {},
   "source": [
    "## Other possibilities:\n",
    "\n",
    "* extract named features for measuring the importance of each token\n",
    "* use some basic text preprocessing (lowecase, stemm, etc)\n",
    "* remove stopword\n",
    "* weight the words using a measure of importante (TF/IDF, for example) "
   ]
  },
  {
   "cell_type": "markdown",
   "metadata": {},
   "source": [
    "## Using word2vec to computer vector similairties\n",
    "\n",
    "It is possibel to use [word2vec]((http://nbviewer.ipython.org/github/danielfrg/word2vec/blob/master/examples/word2vec.ipynb) or [gensim](https://radimrehurek.com/gensim/models/word2vec.html)"
   ]
  },
  {
   "cell_type": "code",
   "execution_count": 8,
   "metadata": {
    "collapsed": true
   },
   "outputs": [],
   "source": [
    "# read the corpus\n",
    "import codecs\n",
    "\n",
    "# this could be done in a iterate way for performance in huge corpus\n",
    "with codecs.open('corpus.txt', encoding='utf8') as fp:\n",
    "    corpus = fp.read()"
   ]
  },
  {
   "cell_type": "code",
   "execution_count": 9,
   "metadata": {
    "collapsed": false
   },
   "outputs": [],
   "source": [
    "# sent and word tokenize with ntlk\n",
    "# It may take a while to process\n",
    "from nltk import sent_tokenize, word_tokenize\n",
    "sentences = [[w.lower() for w in word_tokenize(sentence, language='portuguese')] for sentence in sent_tokenize(corpus, language='portuguese')]"
   ]
  },
  {
   "cell_type": "code",
   "execution_count": 10,
   "metadata": {
    "collapsed": false
   },
   "outputs": [],
   "source": [
    "# It may take a while to train\n",
    "from gensim.models import Word2Vec\n",
    "model = Word2Vec(sentences, size=100, window=5, min_count=5, workers=8)\n",
    "model.init_sims(replace=True)"
   ]
  },
  {
   "cell_type": "code",
   "execution_count": 11,
   "metadata": {
    "collapsed": false
   },
   "outputs": [
    {
     "data": {
      "text/plain": [
       "[(u'duplex', 0.7450528144836426),\n",
       " (u'frost', 0.7416204214096069),\n",
       " (u'refrigerador', 0.7210657000541687),\n",
       " (u'df80', 0.7155492901802063),\n",
       " (u'crb39', 0.7043531537055969),\n",
       " (u'dw42x', 0.7033456563949585),\n",
       " (u'geladeira/refrigerador', 0.6923708319664001),\n",
       " (u'inverse', 0.6831749677658081),\n",
       " (u'dt52x', 0.6795977354049683),\n",
       " (u'smeg', 0.6782817840576172)]"
      ]
     },
     "execution_count": 11,
     "metadata": {},
     "output_type": "execute_result"
    }
   ],
   "source": [
    "model.most_similar('geladeira')"
   ]
  },
  {
   "cell_type": "code",
   "execution_count": 12,
   "metadata": {
    "collapsed": false
   },
   "outputs": [],
   "source": [
    "tokensA = [t.lower() for t in tokensA]\n",
    "vectorsA = sum([model[token] for token in tokensA if token in model.vocab])\n",
    "\n",
    "tokensB = [t.lower() for t in tokensB]\n",
    "vectorsB = sum([model[token] for token in tokensB if token in model.vocab])"
   ]
  },
  {
   "cell_type": "code",
   "execution_count": 13,
   "metadata": {
    "collapsed": false
   },
   "outputs": [
    {
     "name": "stdout",
     "output_type": "stream",
     "text": [
      "Similarity: 0.857831723319\n"
     ]
    }
   ],
   "source": [
    "from nltk.cluster.util import cosine_distance\n",
    "print 'Similarity: {}'.format(abs(1 - cosine_distance(vectorsA, vectorsB)))"
   ]
  },
  {
   "cell_type": "code",
   "execution_count": null,
   "metadata": {
    "collapsed": true
   },
   "outputs": [],
   "source": []
  }
 ],
 "metadata": {
  "kernelspec": {
   "display_name": "Python 2",
   "language": "python",
   "name": "python2"
  },
  "language_info": {
   "codemirror_mode": {
    "name": "ipython",
    "version": 2
   },
   "file_extension": ".py",
   "mimetype": "text/x-python",
   "name": "python",
   "nbconvert_exporter": "python",
   "pygments_lexer": "ipython2",
   "version": "2.7.6"
  }
 },
 "nbformat": 4,
 "nbformat_minor": 0
}
