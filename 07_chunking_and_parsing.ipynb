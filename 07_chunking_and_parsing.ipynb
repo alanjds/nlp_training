{
 "cells": [
  {
   "cell_type": "markdown",
   "metadata": {},
   "source": [
    "# Chunking and Parsing\n",
    "\n",
    "**Chunking or shallow parsing** is an analysis of a sentence which identifies the constituents (noun groups, verbs, verb groups, etc.), but does not specify their internal structure, nor their role in the main sentence.\n",
    "\n",
    "![chunking](http://www.nltk.org/book/tree_images/ch07-tree-1.png)\n",
    "\n",
    "**Parsing or syntactic analysis** is the process of analysing a string of symbols, either in natural language or in computer languages, conforming to the rules of a formal grammar.\n",
    "\n",
    "![parsing](http://www.nltk.org/book/tree_images/ch08-tree-4.png)\n",
    "\n",
    "---\n",
    "Both chunking and parsing could be solved with two methods:\n",
    "\n",
    "* **Grammars**\n",
    "* **Machine learning**\n"
   ]
  },
  {
   "cell_type": "code",
   "execution_count": 1,
   "metadata": {
    "collapsed": true
   },
   "outputs": [],
   "source": [
    "from __future__ import unicode_literals"
   ]
  },
  {
   "cell_type": "markdown",
   "metadata": {},
   "source": [
    "## Chunking"
   ]
  },
  {
   "cell_type": "code",
   "execution_count": 2,
   "metadata": {
    "collapsed": true
   },
   "outputs": [],
   "source": [
    "sentence = 'A geladeira BRASTEMP é uma boa companheira para os momentos mais felizes da sua cozinha'"
   ]
  },
  {
   "cell_type": "code",
   "execution_count": 3,
   "metadata": {
    "collapsed": false
   },
   "outputs": [
    {
     "name": "stdout",
     "output_type": "stream",
     "text": [
      "[(u'A', u'ART'), (u'geladeira', u'N'), (u'BRASTEMP', u'NPROP'), (u'\\xe9', u'V'), (u'uma', u'ART'), (u'boa', u'ADJ'), (u'companheira', u'N'), (u'para', u'PREP'), (u'os', u'ART'), (u'momentos', u'N'), (u'mais', u'ADV'), (u'felizes', u'ADJ'), (u'da', u'PREP+ART'), (u'sua', u'PROADJ'), (u'cozinha', u'N')]\n"
     ]
    }
   ],
   "source": [
    "# tokenize and tag the sentence\n",
    "import nlpnet\n",
    "nlpnet.set_data_dir(b'/usr/share/nlpnet_data/')\n",
    "\n",
    "tagger = nlpnet.POSTagger()\n",
    "tag_sentence = tagger.tag(sentence)[0]\n",
    "\n",
    "print tag_sentence"
   ]
  },
  {
   "cell_type": "code",
   "execution_count": 4,
   "metadata": {
    "collapsed": false
   },
   "outputs": [
    {
     "name": "stdout",
     "output_type": "stream",
     "text": [
      "(S\n",
      "  A/ART\n",
      "  (NP geladeira/N BRASTEMP/NPROP)\n",
      "  e/V\n",
      "  uma/ART\n",
      "  boa/ADJ\n",
      "  (NP companheira/N)\n",
      "  para/PREP\n",
      "  os/ART\n",
      "  (NP momentos/N)\n",
      "  mais/ADV\n",
      "  felizes/ADJ\n",
      "  da/PREP+ART\n",
      "  (NP sua/PROADJ cozinha/N))\n"
     ]
    }
   ],
   "source": [
    "# chunking based on grammar\n",
    "grammar = \"NP: {<PROADJ>?<N><NPROP>*<ADJ>*}\"\n",
    "\n",
    "import nltk\n",
    "cp = nltk.RegexpParser(grammar)\n",
    "result = cp.parse(tag_sentence)\n",
    "print(result)\n",
    "\n",
    "# For machine learning algorithms please check on http://www.nltk.org/book/ch07.html#code-unigram-chunker\n",
    "# http://beta.visl.sdu.dk/visl/en/parsing/automatic/parse.php (PALAVRAS Parser)"
   ]
  },
  {
   "cell_type": "markdown",
   "metadata": {},
   "source": [
    "## Parsing"
   ]
  },
  {
   "cell_type": "code",
   "execution_count": 5,
   "metadata": {
    "collapsed": true
   },
   "outputs": [],
   "source": [
    "# Floresta is a corpus for both Brazilian and Portugal Portuguese available in NLTK\n",
    "from nltk.corpus import floresta"
   ]
  },
  {
   "cell_type": "code",
   "execution_count": 6,
   "metadata": {
    "collapsed": false
   },
   "outputs": [],
   "source": [
    "sent = floresta.parsed_sents()[1]"
   ]
  },
  {
   "cell_type": "code",
   "execution_count": 7,
   "metadata": {
    "collapsed": false
   },
   "outputs": [
    {
     "name": "stdout",
     "output_type": "stream",
     "text": [
      "(STA+fcl\n",
      "  (SUBJ+np (>N+art O) (H+prop 7_e_Meio))\n",
      "  (P+v-fin e)\n",
      "  (SC+np\n",
      "    (>N+art um)\n",
      "    (H+n ex-libris)\n",
      "    (N<+pp\n",
      "      (H+prp de)\n",
      "      (P<+np (>N+art a) (H+n noite) (N<+adj algarvia))))\n",
      "  (. .))\n"
     ]
    }
   ],
   "source": [
    "print sent"
   ]
  },
  {
   "cell_type": "code",
   "execution_count": 8,
   "metadata": {
    "collapsed": false
   },
   "outputs": [
    {
     "data": {
      "text/plain": [
       "[STA+fcl -> SUBJ+np P+v-fin SC+np .,\n",
       " SUBJ+np -> >N+art H+prop,\n",
       " >N+art -> 'O',\n",
       " H+prop -> '7_e_Meio',\n",
       " P+v-fin -> '\\xe9',\n",
       " SC+np -> >N+art H+n N<+pp,\n",
       " >N+art -> 'um',\n",
       " H+n -> 'ex-libris',\n",
       " N<+pp -> H+prp P<+np,\n",
       " H+prp -> 'de',\n",
       " P<+np -> >N+art H+n N<+adj,\n",
       " >N+art -> 'a',\n",
       " H+n -> 'noite',\n",
       " N<+adj -> 'algarvia',\n",
       " . -> '.']"
      ]
     },
     "execution_count": 8,
     "metadata": {},
     "output_type": "execute_result"
    }
   ],
   "source": [
    "sent.productions()"
   ]
  },
  {
   "cell_type": "markdown",
   "metadata": {},
   "source": [
    "For python, there is no toolkit or library to do syntatic parsing. Even parsing training is a bit complicated task.\n",
    "\n",
    "The state-of-art for parsing is on [Stanford Statistical Parsing](http://nlp.stanford.edu/software/lex-parser.shtml) available in Java, but NLTK has a wrapper for its use.\n",
    "\n",
    "For Portuguese there is a very known syntatic parser based on grammar called PALAVRAS. More info:\n",
    "\n",
    "http://beta.visl.sdu.dk/constraint_grammar.html\n",
    "\n",
    "http://beta.visl.sdu.dk/visl/en/parsing/automatic/parse.php"
   ]
  },
  {
   "cell_type": "code",
   "execution_count": null,
   "metadata": {
    "collapsed": true
   },
   "outputs": [],
   "source": []
  }
 ],
 "metadata": {
  "kernelspec": {
   "display_name": "Python 2",
   "language": "python",
   "name": "python2"
  },
  "language_info": {
   "codemirror_mode": {
    "name": "ipython",
    "version": 2
   },
   "file_extension": ".py",
   "mimetype": "text/x-python",
   "name": "python",
   "nbconvert_exporter": "python",
   "pygments_lexer": "ipython2",
   "version": "2.7.6"
  }
 },
 "nbformat": 4,
 "nbformat_minor": 0
}
