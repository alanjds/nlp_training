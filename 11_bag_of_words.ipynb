{
 "cells": [
  {
   "cell_type": "markdown",
   "metadata": {},
   "source": [
    "# Bag-of-words\n",
    "\n",
    "\n",
    "The bag-of-words model is a simplifying representation used in natural language processing and information retrieval (IR). In this model, a text (such as a sentence or a document) is represented as the bag (multiset) of its words, disregarding grammar and even word order but keeping multiplicity. \n",
    "\n",
    "In document classification, a bag of words is a sparse vector of occurrence counts of words; that is, a sparse histogram over the vocabulary.\n",
    "\n",
    "(https://en.wikipedia.org/wiki/Bag-of-words_model)"
   ]
  },
  {
   "cell_type": "code",
   "execution_count": 1,
   "metadata": {
    "collapsed": true
   },
   "outputs": [],
   "source": [
    "from __future__ import unicode_literals "
   ]
  },
  {
   "cell_type": "markdown",
   "metadata": {},
   "source": [
    "## Collecting a dataset from ecommerce with product name and category"
   ]
  },
  {
   "cell_type": "code",
   "execution_count": 2,
   "metadata": {
    "collapsed": true
   },
   "outputs": [],
   "source": [
    "import gzip\n",
    "import json"
   ]
  },
  {
   "cell_type": "code",
   "execution_count": 3,
   "metadata": {
    "collapsed": false
   },
   "outputs": [],
   "source": [
    "# load json ecommerce dump\n",
    "corpus = list()\n",
    "with gzip.open('ecommerce.json.gz') as fp:\n",
    "    for line in fp:\n",
    "        entry = line.decode('utf8')\n",
    "        corpus.append(json.loads(entry))"
   ]
  },
  {
   "cell_type": "code",
   "execution_count": 4,
   "metadata": {
    "collapsed": false
   },
   "outputs": [
    {
     "name": "stdout",
     "output_type": "stream",
     "text": [
      "{u'_id': 120008322,\n",
      " u'cat': u' Automotivo',\n",
      " u'descr': u'Chegou o kit que junta resist\\xeancia e conforto, al\\xe9m de n\\xedveis m\\xe1ximos de seguran\\xe7a. S\\xe3o 4 pneus para seu carro ficar completo e com a qualifica\\xe7\\xe3o que voc\\xea precisa.\\nCom os conhecimentos avan\\xe7ados de hoje e um entusiasmo pela dire\\xe7\\xe3o, os engenheiros da Pirelli puderam dar grandes passos. Cada pneu da Pirelli \\xe9 respons\\xe1vel n\\xe3o s\\xf3 pelo desempenho, mas tamb\\xe9m por uma \"vontade de ir pra estrada\", comunicando-se com o motorista e gerando um melhor entendimento do desempenho do ve\\xedculo, ou seja, a Pirelli transforma a sua viagem em uma aventura divertida e livre de problemas. Pneu Pirelli para carros com rodas aro 16, modelo high performance Phanthon, perfil baixo proporcionando maior estabilidade nas curvas, excelente qualidade e durabilidade para pistas.\\n\\nImagens meramente ilustrativas.\\nTodas as informa\\xe7\\xf5es divulgadas s\\xe3o de responsabilidade do fabricante/fornecedor.',\n",
      " u'features': {u'Aro': u'16',\n",
      "               u'Categoria': u'Alta Performance,Pneu automotivo',\n",
      "               u'Composi\\xe7\\xe3o/Material': u'Borracha',\n",
      "               u'Dimens\\xf5es aproximadas da embalagem (cm) - AxLxP': u'63x23x63cm',\n",
      "               u'Dist\\xe2ncia do furo central ao eixo': u'N\\xe3o informado pelo fornecedor',\n",
      "               u'Dist\\xe2ncia entre furos': u'N\\xe3o informado pelo fornecedor',\n",
      "               u'Fornecedor': u'Pirelli',\n",
      "               u'Garantia do Fornecedor': u'60 meses',\n",
      "               u'Indica\\xe7\\xe3o': u'Carro',\n",
      "               u'Largura do Pneu': u'N\\xe3o informado pelo fornecedor',\n",
      "               u'Marca': u'Pirelli',\n",
      "               u'Modelo': u'7895119967121',\n",
      "               u'N\\xfamero de furos': u'N\\xe3o informado pelo fornecedor',\n",
      "               u'PRODUTO': u'Pneu Pirelli Aro 16 205/55R16 Phantom',\n",
      "               u'Peso aproximado da embalagem do produto (kg)': u'10kg',\n",
      "               u'Refer\\xeancia do Modelo': u'7895119967121',\n",
      "               u'Rela\\xe7\\xe3o altura do flanco x altura do pneu': u'62x22x62cm',\n",
      "               u'SAC': u'0800 7287638',\n",
      "               u'Tala': u'N\\xe3o informdo pelo fornecedor',\n",
      "               u'\\xcdndice de carga': u'615'},\n",
      " u'image_urls': [u'http://iacom1-a.akamaihd.net/img/_staging/bf15acom.png',\n",
      "                 u'http://iacom1-a.akamaihd.net/produtos/01/00/item/120008/3/120008322_2GG.jpg',\n",
      "                 u'http://iacom1-a.akamaihd.net/produtos/01/00/item/120008/3/120008322_1GG.png'],\n",
      " u'name': u'Kit com 4 Pneus de Alta Performance Pirelli Aro 16 205/55R16 Phantom',\n",
      " u'ratings': 0,\n",
      " u'stars': 0.0,\n",
      " u'subcat': u' Pneus e Rodas',\n",
      " u'url': u'http://www.americanas.com.br/produto/120008322/kit-com-4-pneus-de-alta-performance-pirelli-aro-16-205-55r16-phantom??chave=dp_automotivo_dt1'}\n"
     ]
    }
   ],
   "source": [
    "from pprint import pprint\n",
    "pprint(corpus[0])"
   ]
  },
  {
   "cell_type": "code",
   "execution_count": 5,
   "metadata": {
    "collapsed": false
   },
   "outputs": [
    {
     "name": "stdout",
     "output_type": "stream",
     "text": [
      "Chegou o kit que junta resistência e conforto, além de níveis máximos de segurança. São 4 pneus para seu carro ficar completo e com a qualificação que você precisa.\n",
      "Com os conhecimentos avançados de hoje e um entusiasmo pela direção, os engenheiros da Pirelli puderam dar grandes passos. Cada pneu da Pirelli é responsável não só pelo desempenho, mas também por uma \"vontade de ir pra estrada\", comunicando-se com o motorista e gerando um melhor entendimento do desempenho do veículo, ou seja, a Pirelli transforma a sua viagem em uma aventura divertida e livre de problemas. Pneu Pirelli para carros com rodas aro 16, modelo high performance Phanthon, perfil baixo proporcionando maior estabilidade nas curvas, excelente qualidade e durabilidade para pistas.\n",
      "\n",
      "Imagens meramente ilustrativas.\n",
      "Todas as informações divulgadas são de responsabilidade do fabricante/fornecedor.\n"
     ]
    }
   ],
   "source": [
    "print corpus[0]['descr']"
   ]
  },
  {
   "cell_type": "code",
   "execution_count": 6,
   "metadata": {
    "collapsed": false
   },
   "outputs": [
    {
     "name": "stderr",
     "output_type": "stream",
     "text": [
      "WARNING:gensim.summarization.summarizer:Input text is expected to have at least 10 sentences.\n",
      "WARNING:gensim.summarization.summarizer:Input corpus is expected to have at least 10 documents.\n"
     ]
    },
    {
     "name": "stdout",
     "output_type": "stream",
     "text": [
      "São 4 pneus para seu carro ficar completo e com a qualificação que você precisa.\n"
     ]
    }
   ],
   "source": [
    "import gensim\n",
    "print gensim.summarization.summarize(corpus[0]['descr'])"
   ]
  },
  {
   "cell_type": "code",
   "execution_count": 7,
   "metadata": {
    "collapsed": false
   },
   "outputs": [
    {
     "data": {
      "text/plain": [
       "65875"
      ]
     },
     "execution_count": 7,
     "metadata": {},
     "output_type": "execute_result"
    }
   ],
   "source": [
    "len(corpus)"
   ]
  },
  {
   "cell_type": "code",
   "execution_count": 8,
   "metadata": {
    "collapsed": false
   },
   "outputs": [],
   "source": [
    "# let's build a classifier for product categories\n",
    "# for speed up the example lets only consider the first 10k products\n",
    "dataset = list()\n",
    "for entry in corpus[:10000]:\n",
    "    if 'cat' in entry:\n",
    "        dataset.append( (entry['name'], entry['cat'].lower().strip()) )"
   ]
  },
  {
   "cell_type": "code",
   "execution_count": 9,
   "metadata": {
    "collapsed": false
   },
   "outputs": [
    {
     "data": {
      "text/plain": [
       "9953"
      ]
     },
     "execution_count": 9,
     "metadata": {},
     "output_type": "execute_result"
    }
   ],
   "source": [
    "len(dataset)"
   ]
  },
  {
   "cell_type": "code",
   "execution_count": 10,
   "metadata": {
    "collapsed": false
   },
   "outputs": [
    {
     "name": "stdout",
     "output_type": "stream",
     "text": [
      "[(u'Kit com 4 Pneus de Alta Performance Pirelli Aro 16 205/55R16 Phantom',\n",
      "  u'automotivo'),\n",
      " (u'Chandon Brut Ros\\xe9 750 ml', u'alimentos e bebidas'),\n",
      " (u'Kit com 2 Vodkas Sueca Absolut Vanilia 1000ml', u'alimentos e bebidas'),\n",
      " (u'Kit  - Livros de Colorir: Jardim Secreto + Floresta Encantada + Reino Animal',\n",
      "  u'livros'),\n",
      " (u\"Livro - Assassin's Creed: Submundo\", u'livros'),\n",
      " (u'BCAA 2400 - 100 C\\xe1psulas - Nitech Nutrition',\n",
      "  u'suplementos e vitaminas'),\n",
      " (u'100% Whey - 900g - Baunilha - Nitech Nutrition',\n",
      "  u'suplementos e vitaminas'),\n",
      " (u'Whey Protein Isolate - 900g - Morango - Nitech Nutrition',\n",
      "  u'suplementos e vitaminas'),\n",
      " (u'100% Whey - 900g - Chocolate - Nitech Nutrition',\n",
      "  u'suplementos e vitaminas'),\n",
      " (u'BCAA 2400 - 200 C\\xe1psulas - Nitech Nutrition',\n",
      "  u'suplementos e vitaminas')]\n"
     ]
    }
   ],
   "source": [
    "pprint(dataset[:10])"
   ]
  },
  {
   "cell_type": "code",
   "execution_count": 11,
   "metadata": {
    "collapsed": false
   },
   "outputs": [
    {
     "name": "stdout",
     "output_type": "stream",
     "text": [
      "[(u'beb\\xeas', 1208),\n",
      " (u'eletroport\\xe1teis', 1052),\n",
      " (u'automotivo', 915),\n",
      " (u'utilidades dom\\xe9sticas', 857),\n",
      " (u'suplementos e vitaminas', 787),\n",
      " (u'ar-condicionado e aquecedores', 754),\n",
      " (u'inform\\xe1tica', 706),\n",
      " (u'cama, mesa e banho', 670),\n",
      " (u'tv e home theater', 644),\n",
      " (u'perfumaria', 532),\n",
      " (u'beleza e sa\\xfade', 497),\n",
      " (u'dvds e blu-ray', 433),\n",
      " (u'rel\\xf3gios', 410),\n",
      " (u'pet shop', 391),\n",
      " (u'instrumentos musicais', 44),\n",
      " (u'celulares e telefones', 18),\n",
      " (u'eletrodom\\xe9sticos', 16),\n",
      " (u'\\xe1udio', 13),\n",
      " (u'livros', 2),\n",
      " (u'alimentos e bebidas', 2),\n",
      " (u'brinquedos', 1),\n",
      " (u'linha industrial', 1)]\n"
     ]
    }
   ],
   "source": [
    "# how many distinc categories do we have and how many items per category?\n",
    "from collections import Counter\n",
    "counter = Counter([cat for prod, cat in dataset])\n",
    "\n",
    "pprint(counter.most_common())"
   ]
  },
  {
   "cell_type": "markdown",
   "metadata": {},
   "source": [
    "# Building a SVM Classifier with bag-of-words"
   ]
  },
  {
   "cell_type": "code",
   "execution_count": 12,
   "metadata": {
    "collapsed": true
   },
   "outputs": [],
   "source": [
    "from sklearn.pipeline import Pipeline\n",
    "from sklearn.svm import SVC\n",
    "from sklearn.preprocessing import LabelEncoder\n",
    "from sklearn.feature_extraction.text import TfidfVectorizer\n",
    "from sklearn.feature_extraction.text import CountVectorizer"
   ]
  },
  {
   "cell_type": "code",
   "execution_count": 13,
   "metadata": {
    "collapsed": false
   },
   "outputs": [],
   "source": [
    "import nltk\n",
    "stopwords = nltk.corpus.stopwords.words('portuguese')"
   ]
  },
  {
   "cell_type": "code",
   "execution_count": 14,
   "metadata": {
    "collapsed": false
   },
   "outputs": [],
   "source": [
    "classifier = Pipeline([('vect', TfidfVectorizer()), ('clf', SVC(kernel='linear', probability=True))])\n",
    "encoder = LabelEncoder()\n",
    "# Please check on http://scikit-learn.org/stable/tutorial/text_analytics/working_with_text_data.html"
   ]
  },
  {
   "cell_type": "code",
   "execution_count": 15,
   "metadata": {
    "collapsed": false
   },
   "outputs": [
    {
     "data": {
      "text/plain": [
       "9953"
      ]
     },
     "execution_count": 15,
     "metadata": {},
     "output_type": "execute_result"
    }
   ],
   "source": [
    "data = [prod for prod, cat in dataset]\n",
    "labels = [cat for prod, cat in dataset]\n",
    "len(data)"
   ]
  },
  {
   "cell_type": "code",
   "execution_count": 16,
   "metadata": {
    "collapsed": false
   },
   "outputs": [],
   "source": [
    "target = encoder.fit_transform(labels)"
   ]
  },
  {
   "cell_type": "code",
   "execution_count": 17,
   "metadata": {
    "collapsed": false
   },
   "outputs": [
    {
     "data": {
      "text/plain": [
       "u'ar-condicionado e aquecedores'"
      ]
     },
     "execution_count": 17,
     "metadata": {},
     "output_type": "execute_result"
    }
   ],
   "source": [
    "encoder.classes_.item(1)"
   ]
  },
  {
   "cell_type": "code",
   "execution_count": 18,
   "metadata": {
    "collapsed": false
   },
   "outputs": [
    {
     "data": {
      "text/plain": [
       "Pipeline(steps=[(u'vect', TfidfVectorizer(analyzer=u'word', binary=False, decode_error=u'strict',\n",
       "        dtype=<type 'numpy.int64'>, encoding=u'utf-8', input=u'content',\n",
       "        lowercase=True, max_df=1.0, max_features=None, min_df=1,\n",
       "        ngram_range=(1, 1), norm=u'l2', preprocessor=None, smooth_idf=Tru...',\n",
       "  max_iter=-1, probability=True, random_state=None, shrinking=True,\n",
       "  tol=0.001, verbose=False))])"
      ]
     },
     "execution_count": 18,
     "metadata": {},
     "output_type": "execute_result"
    }
   ],
   "source": [
    "classifier.fit(data, target)"
   ]
  },
  {
   "cell_type": "code",
   "execution_count": 19,
   "metadata": {
    "collapsed": false
   },
   "outputs": [
    {
     "data": {
      "text/plain": [
       "array([9])"
      ]
     },
     "execution_count": 19,
     "metadata": {},
     "output_type": "execute_result"
    }
   ],
   "source": [
    "classifier.predict([\"Refrigerador Brastemp com função frostfree\"])"
   ]
  },
  {
   "cell_type": "code",
   "execution_count": 20,
   "metadata": {
    "collapsed": false
   },
   "outputs": [
    {
     "name": "stdout",
     "output_type": "stream",
     "text": [
      "eletrodomésticos\n"
     ]
    }
   ],
   "source": [
    "print encoder.classes_[9]"
   ]
  },
  {
   "cell_type": "code",
   "execution_count": 21,
   "metadata": {
    "collapsed": false
   },
   "outputs": [],
   "source": [
    "probs = classifier.predict_proba([\"Ventilador\"])"
   ]
  },
  {
   "cell_type": "code",
   "execution_count": 22,
   "metadata": {
    "collapsed": false
   },
   "outputs": [
    {
     "name": "stdout",
     "output_type": "stream",
     "text": [
      "[(u'alimentos e bebidas', 3.688477530894003e-07),\n",
      " (u'ar-condicionado e aquecedores', 2.469095180707653e-07),\n",
      " (u'automotivo', 2.245439791949051e-07),\n",
      " (u'beb\\xeas', 4.366071253426756e-07),\n",
      " (u'beleza e sa\\xfade', 2.391938864502423e-07),\n",
      " (u'brinquedos', 1.4201684720393886e-05),\n",
      " (u'cama, mesa e banho', 2.3369519957920863e-07),\n",
      " (u'celulares e telefones', 1.2226580639746691e-05),\n",
      " (u'dvds e blu-ray', 2.6750925987771174e-07),\n",
      " (u'eletrodom\\xe9sticos', 8.090091427177432e-07),\n",
      " (u'eletroport\\xe1teis', 0.9999450205737752),\n",
      " (u'inform\\xe1tica', 2.7277448331803544e-07),\n",
      " (u'instrumentos musicais', 7.482958503364135e-07),\n",
      " (u'linha industrial', 1.655290879491242e-05),\n",
      " (u'livros', 6.493134239212444e-07),\n",
      " (u'perfumaria', 2.3547348349555312e-07),\n",
      " (u'pet shop', 3.607951820250581e-07),\n",
      " (u'rel\\xf3gios', 1.3834263784016502e-06),\n",
      " (u'suplementos e vitaminas', 5.505094406822638e-07),\n",
      " (u'tv e home theater', 3.421098159233175e-07),\n",
      " (u'utilidades dom\\xe9sticas', 2.1383913180936887e-07),\n",
      " (u'\\xe1udio', 4.415399015690651e-06)]\n"
     ]
    }
   ],
   "source": [
    "guess = [( class_, probs.item(n)) for n, class_ in enumerate(encoder.classes_)]\n",
    "pprint(guess)"
   ]
  },
  {
   "cell_type": "code",
   "execution_count": 23,
   "metadata": {
    "collapsed": false
   },
   "outputs": [
    {
     "name": "stdout",
     "output_type": "stream",
     "text": [
      "eletroportáteis: 0.9999\n",
      "linha industrial: 0.0000\n",
      "brinquedos: 0.0000\n",
      "celulares e telefones: 0.0000\n",
      "áudio: 0.0000\n",
      "relógios: 0.0000\n",
      "eletrodomésticos: 0.0000\n",
      "instrumentos musicais: 0.0000\n",
      "livros: 0.0000\n",
      "suplementos e vitaminas: 0.0000\n",
      "bebês: 0.0000\n",
      "alimentos e bebidas: 0.0000\n",
      "pet shop: 0.0000\n",
      "tv e home theater: 0.0000\n",
      "informática: 0.0000\n",
      "dvds e blu-ray: 0.0000\n",
      "ar-condicionado e aquecedores: 0.0000\n",
      "beleza e saúde: 0.0000\n",
      "perfumaria: 0.0000\n",
      "cama, mesa e banho: 0.0000\n",
      "automotivo: 0.0000\n",
      "utilidades domésticas: 0.0000\n"
     ]
    }
   ],
   "source": [
    "from operator import itemgetter\n",
    "for cat, proba in sorted(guess, key=itemgetter(1), reverse=True):\n",
    "    print '{}: {:.4f}'.format(cat,proba)"
   ]
  },
  {
   "cell_type": "markdown",
   "metadata": {},
   "source": [
    "# Activity: How to improve the result above?\n",
    "\n",
    "What causes the result above?\n",
    "How can we improve?"
   ]
  },
  {
   "cell_type": "code",
   "execution_count": null,
   "metadata": {
    "collapsed": true
   },
   "outputs": [],
   "source": []
  }
 ],
 "metadata": {
  "kernelspec": {
   "display_name": "Python 2",
   "language": "python",
   "name": "python2"
  },
  "language_info": {
   "codemirror_mode": {
    "name": "ipython",
    "version": 2
   },
   "file_extension": ".py",
   "mimetype": "text/x-python",
   "name": "python",
   "nbconvert_exporter": "python",
   "pygments_lexer": "ipython2",
   "version": "2.7.6"
  }
 },
 "nbformat": 4,
 "nbformat_minor": 0
}
