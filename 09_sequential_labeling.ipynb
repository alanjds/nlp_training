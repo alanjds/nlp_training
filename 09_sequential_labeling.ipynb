{
 "cells": [
  {
   "cell_type": "markdown",
   "metadata": {},
   "source": [
    "# Sequential Labeling\n",
    "\n",
    "In machine learning, sequence labeling is a type of pattern recognition task that involves the algorithmic assignment of a categorical label to each member of a sequence of observed values. A common example of a sequence labeling task is part of speech tagging, which seeks to assign a part of speech to each word in an input sentence or document.\n",
    "\n",
    "There are two famos algorithm for sequential labeling:\n",
    "* HMM\n",
    "* CRF\n",
    "\n",
    "This tutorial will use CRF for a POS Tagger training."
   ]
  },
  {
   "cell_type": "code",
   "execution_count": 1,
   "metadata": {
    "collapsed": true
   },
   "outputs": [],
   "source": [
    "from __future__ import unicode_literals\n",
    "import pycrfsuite"
   ]
  },
  {
   "cell_type": "code",
   "execution_count": 2,
   "metadata": {
    "collapsed": true
   },
   "outputs": [],
   "source": [
    "from nltk.corpus import mac_morpho"
   ]
  },
  {
   "cell_type": "code",
   "execution_count": 3,
   "metadata": {
    "collapsed": false
   },
   "outputs": [
    {
     "data": {
      "text/plain": [
       "[[(u'Jersei', u'N')],\n",
       " [(u'atinge', u'V')],\n",
       " [(u'm\\xe9dia', u'N')],\n",
       " [(u'de', u'PREP')],\n",
       " [(u'Cr$', u'CUR')],\n",
       " [(u'1,4', u'NUM')],\n",
       " [(u'milh\\xe3o', u'N')],\n",
       " [(u'em', u'PREP|+')],\n",
       " [(u'a', u'ART')],\n",
       " [(u'venda', u'N')]]"
      ]
     },
     "execution_count": 3,
     "metadata": {},
     "output_type": "execute_result"
    }
   ],
   "source": [
    "list(mac_morpho.tagged_sents()[:10])"
   ]
  },
  {
   "cell_type": "code",
   "execution_count": 4,
   "metadata": {
    "collapsed": true
   },
   "outputs": [],
   "source": [
    "# get only 1k sentences for fast exemplification\n",
    "tagged_sents = mac_morpho.tagged_sents()[:1000]"
   ]
  },
  {
   "cell_type": "code",
   "execution_count": 5,
   "metadata": {
    "collapsed": true
   },
   "outputs": [],
   "source": [
    "# could you come up with better features?\n",
    "def word2features(sent, i):\n",
    "        word = sent[i]\n",
    "\n",
    "        features = [\n",
    "            'bias',\n",
    "            'word.lower=' + word.lower(),\n",
    "            'word[-3:]=' + word[-3:],\n",
    "            'word[-2:]=' + word[-2:],\n",
    "            'word.isupper=%s' % word.isupper(),\n",
    "            'word.istitle=%s' % word.istitle(),\n",
    "            'word.isdigit=%s' % word.isdigit(),\n",
    "        ]\n",
    "        if i > 0:\n",
    "            word1 = sent[i - 1]\n",
    "            features.extend([\n",
    "                '-1:word.lower=' + word1.lower(),\n",
    "                '-1:word.istitle=%s' % word1.istitle(),\n",
    "                '-1:word.isupper=%s' % word1.isupper(),\n",
    "            ])\n",
    "        else:\n",
    "            features.append('BOS')\n",
    "\n",
    "        if i < len(sent) - 1:\n",
    "            word1 = sent[i + 1]\n",
    "            features.extend([\n",
    "                '+1:word.lower=' + word1.lower(),\n",
    "                '+1:word.istitle=%s' % word1.istitle(),\n",
    "                '+1:word.isupper=%s' % word1.isupper(),\n",
    "            ])\n",
    "        else:\n",
    "            features.append('EOS')\n",
    "\n",
    "        return features\n",
    "    \n",
    "def sent2features(sent):\n",
    "   return [word2features(sent, i) for i in range(len(sent))]\n",
    "\n",
    "def sent2labels(sent):\n",
    "   return [label for token, label in sent]\n",
    "\n",
    "def sent2tokens(sent):\n",
    "   return [token for token, label in sent]"
   ]
  },
  {
   "cell_type": "code",
   "execution_count": 6,
   "metadata": {
    "collapsed": false
   },
   "outputs": [],
   "source": [
    "sentences = list()\n",
    "for sent in tagged_sents:\n",
    "    sentences.append([token for token, tag in sent])\n",
    "\n",
    "X_train = [sent2features(s) for s in sentences]\n",
    "y_train = [sent2labels(s) for s in tagged_sents]"
   ]
  },
  {
   "cell_type": "code",
   "execution_count": 7,
   "metadata": {
    "collapsed": true
   },
   "outputs": [],
   "source": [
    "trainer = pycrfsuite.Trainer(verbose=False)\n",
    "trainer.select(algorithm='lbfgs', type='crf1d')"
   ]
  },
  {
   "cell_type": "code",
   "execution_count": 8,
   "metadata": {
    "collapsed": false
   },
   "outputs": [],
   "source": [
    "for xseq, yseq in zip(X_train, y_train):\n",
    "    trainer.append(xseq, yseq)\n",
    "trainer.train('pos.model')"
   ]
  },
  {
   "cell_type": "code",
   "execution_count": 9,
   "metadata": {
    "collapsed": false
   },
   "outputs": [
    {
     "data": {
      "text/plain": [
       "<contextlib.closing at 0x7f88a0d260d0>"
      ]
     },
     "execution_count": 9,
     "metadata": {},
     "output_type": "execute_result"
    }
   ],
   "source": [
    "tagger = pycrfsuite.Tagger()\n",
    "tagger.open('pos.model')"
   ]
  },
  {
   "cell_type": "code",
   "execution_count": 10,
   "metadata": {
    "collapsed": false
   },
   "outputs": [
    {
     "name": "stdout",
     "output_type": "stream",
     "text": [
      "[(u'O', 'ART'), (u'menino', 'N'), (u'jogou', 'V'), (u'a', 'ART'), (u'bola', 'ADJ'), (u'azul', 'N'), (u'no', 'N'), (u'gol', 'N'), (u'.', 'N')]\n"
     ]
    }
   ],
   "source": [
    "sent = 'O menino jogou a bola azul no gol .'.split()\n",
    "X_test = sent2features(sent)\n",
    "guess = tagger.tag(X_test)\n",
    "print zip(sent, guess)"
   ]
  },
  {
   "cell_type": "code",
   "execution_count": null,
   "metadata": {
    "collapsed": true
   },
   "outputs": [],
   "source": []
  }
 ],
 "metadata": {
  "kernelspec": {
   "display_name": "Python 2",
   "language": "python",
   "name": "python2"
  },
  "language_info": {
   "codemirror_mode": {
    "name": "ipython",
    "version": 2
   },
   "file_extension": ".py",
   "mimetype": "text/x-python",
   "name": "python",
   "nbconvert_exporter": "python",
   "pygments_lexer": "ipython2",
   "version": "2.7.6"
  }
 },
 "nbformat": 4,
 "nbformat_minor": 0
}
