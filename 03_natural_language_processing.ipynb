{
 "cells": [
  {
   "cell_type": "markdown",
   "metadata": {},
   "source": [
    "# Natural Language Processing"
   ]
  },
  {
   "cell_type": "markdown",
   "metadata": {},
   "source": [
    "**Natural Language Processing (NLP)** or Computational Linguistics is a field of computer science, artificial intelligence, and computational linguistics concerned with the interactions between computers and human (natural) languages."
   ]
  },
  {
   "cell_type": "markdown",
   "metadata": {},
   "source": [
    "Classical books in NLP show NLP as two areas:\n",
    "\n",
    "* Natural Language Understanding (NLU)\n",
    "* Natural Language Genertation(NLG)"
   ]
  },
  {
   "cell_type": "markdown",
   "metadata": {},
   "source": [
    "Other also undertand NLP as two distinct activities:\n",
    "\n",
    "* Natural Language Processor: analyses the language, breaking into compounds (e.g., tokenization, parsing)\n",
    "* Natural Language Tasks: focus in solving tasks where human language is required (e.g. traslation, sumarization)"
   ]
  },
  {
   "cell_type": "markdown",
   "metadata": {},
   "source": [
    "To best understand languages, NLP brought the language analysis knowledge from linguistics:\n",
    "\n",
    "* morpholocial analysis\n",
    "* lexical analysis\n",
    "* syntatic analysis\n",
    "* semantic analysis\n",
    "* discourse analysis"
   ]
  },
  {
   "cell_type": "markdown",
   "metadata": {},
   "source": [
    "Two views for doing natural language processing:\n",
    "\n",
    "* Symbolic (the classical, based on linguistics assumptions)\n",
    "* Statistical (the actual state of art, based on huge amount of corpora and machine learning advances)"
   ]
  }
 ],
 "metadata": {
  "kernelspec": {
   "display_name": "Python 2",
   "language": "python",
   "name": "python2"
  },
  "language_info": {
   "codemirror_mode": {
    "name": "ipython",
    "version": 2
   },
   "file_extension": ".py",
   "mimetype": "text/x-python",
   "name": "python",
   "nbconvert_exporter": "python",
   "pygments_lexer": "ipython2",
   "version": "2.7.6"
  }
 },
 "nbformat": 4,
 "nbformat_minor": 0
}
